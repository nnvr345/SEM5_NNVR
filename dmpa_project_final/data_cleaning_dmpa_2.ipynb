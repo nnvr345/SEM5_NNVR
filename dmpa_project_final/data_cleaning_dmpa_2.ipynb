{
 "cells": [
  {
   "cell_type": "code",
   "execution_count": 26,
   "metadata": {},
   "outputs": [],
   "source": [
    "import pandas as pd \n",
    "import seaborn as sns"
   ]
  },
  {
   "cell_type": "code",
   "execution_count": 27,
   "metadata": {},
   "outputs": [],
   "source": [
    "df= pd.read_csv(\"C:\\\\Users\\\\HP\\\\Desktop\\\\labs\\\\dmpa_project_final\\\\new_supply.csv\")"
   ]
  },
  {
   "cell_type": "code",
   "execution_count": 28,
   "metadata": {},
   "outputs": [
    {
     "data": {
      "text/html": [
       "<div>\n",
       "<style scoped>\n",
       "    .dataframe tbody tr th:only-of-type {\n",
       "        vertical-align: middle;\n",
       "    }\n",
       "\n",
       "    .dataframe tbody tr th {\n",
       "        vertical-align: top;\n",
       "    }\n",
       "\n",
       "    .dataframe thead th {\n",
       "        text-align: right;\n",
       "    }\n",
       "</style>\n",
       "<table border=\"1\" class=\"dataframe\">\n",
       "  <thead>\n",
       "    <tr style=\"text-align: right;\">\n",
       "      <th></th>\n",
       "      <th>Order ID</th>\n",
       "      <th>Order Date</th>\n",
       "      <th>Origin Port</th>\n",
       "      <th>Carrier</th>\n",
       "      <th>TPT</th>\n",
       "      <th>Service Level</th>\n",
       "      <th>Ship ahead day count</th>\n",
       "      <th>Ship Late Day count</th>\n",
       "      <th>Customer</th>\n",
       "      <th>Product ID</th>\n",
       "      <th>Plant Code</th>\n",
       "      <th>Destination Port</th>\n",
       "      <th>Unit quantity</th>\n",
       "      <th>Weight</th>\n",
       "    </tr>\n",
       "  </thead>\n",
       "  <tbody>\n",
       "    <tr>\n",
       "      <th>0</th>\n",
       "      <td>1447296447</td>\n",
       "      <td>5/26/2013</td>\n",
       "      <td>PORT09</td>\n",
       "      <td>V44_3</td>\n",
       "      <td>1</td>\n",
       "      <td>CRF</td>\n",
       "      <td>3</td>\n",
       "      <td>0</td>\n",
       "      <td>V55555_53</td>\n",
       "      <td>1700106</td>\n",
       "      <td>PLANT16</td>\n",
       "      <td>PORT09</td>\n",
       "      <td>808</td>\n",
       "      <td>14.30</td>\n",
       "    </tr>\n",
       "    <tr>\n",
       "      <th>1</th>\n",
       "      <td>1447158015</td>\n",
       "      <td>5/26/2013</td>\n",
       "      <td>PORT09</td>\n",
       "      <td>V44_3</td>\n",
       "      <td>1</td>\n",
       "      <td>CRF</td>\n",
       "      <td>3</td>\n",
       "      <td>0</td>\n",
       "      <td>V55555_53</td>\n",
       "      <td>1700106</td>\n",
       "      <td>PLANT16</td>\n",
       "      <td>PORT09</td>\n",
       "      <td>3188</td>\n",
       "      <td>87.94</td>\n",
       "    </tr>\n",
       "    <tr>\n",
       "      <th>2</th>\n",
       "      <td>1447138899</td>\n",
       "      <td>5/26/2013</td>\n",
       "      <td>PORT09</td>\n",
       "      <td>V44_3</td>\n",
       "      <td>1</td>\n",
       "      <td>CRF</td>\n",
       "      <td>3</td>\n",
       "      <td>0</td>\n",
       "      <td>V55555_53</td>\n",
       "      <td>1700106</td>\n",
       "      <td>PLANT16</td>\n",
       "      <td>PORT09</td>\n",
       "      <td>2331</td>\n",
       "      <td>61.20</td>\n",
       "    </tr>\n",
       "  </tbody>\n",
       "</table>\n",
       "</div>"
      ],
      "text/plain": [
       "     Order ID Order Date Origin Port Carrier  TPT Service Level  \\\n",
       "0  1447296447  5/26/2013      PORT09   V44_3    1           CRF   \n",
       "1  1447158015  5/26/2013      PORT09   V44_3    1           CRF   \n",
       "2  1447138899  5/26/2013      PORT09   V44_3    1           CRF   \n",
       "\n",
       "   Ship ahead day count  Ship Late Day count   Customer  Product ID  \\\n",
       "0                     3                    0  V55555_53     1700106   \n",
       "1                     3                    0  V55555_53     1700106   \n",
       "2                     3                    0  V55555_53     1700106   \n",
       "\n",
       "  Plant Code Destination Port  Unit quantity  Weight  \n",
       "0    PLANT16           PORT09            808   14.30  \n",
       "1    PLANT16           PORT09           3188   87.94  \n",
       "2    PLANT16           PORT09           2331   61.20  "
      ]
     },
     "execution_count": 28,
     "metadata": {},
     "output_type": "execute_result"
    }
   ],
   "source": [
    "df.head(3)"
   ]
  },
  {
   "cell_type": "code",
   "execution_count": 29,
   "metadata": {},
   "outputs": [
    {
     "data": {
      "text/plain": [
       "Index(['Order ID', 'Order Date', 'Origin Port', 'Carrier', 'TPT',\n",
       "       'Service Level', 'Ship ahead day count', 'Ship Late Day count',\n",
       "       'Customer', 'Product ID', 'Plant Code', 'Destination Port',\n",
       "       'Unit quantity', 'Weight'],\n",
       "      dtype='object')"
      ]
     },
     "execution_count": 29,
     "metadata": {},
     "output_type": "execute_result"
    }
   ],
   "source": [
    "df.columns"
   ]
  },
  {
   "cell_type": "code",
   "execution_count": 30,
   "metadata": {},
   "outputs": [
    {
     "data": {
      "text/html": [
       "<div>\n",
       "<style scoped>\n",
       "    .dataframe tbody tr th:only-of-type {\n",
       "        vertical-align: middle;\n",
       "    }\n",
       "\n",
       "    .dataframe tbody tr th {\n",
       "        vertical-align: top;\n",
       "    }\n",
       "\n",
       "    .dataframe thead th {\n",
       "        text-align: right;\n",
       "    }\n",
       "</style>\n",
       "<table border=\"1\" class=\"dataframe\">\n",
       "  <thead>\n",
       "    <tr style=\"text-align: right;\">\n",
       "      <th></th>\n",
       "      <th>Order ID</th>\n",
       "      <th>Order Date</th>\n",
       "      <th>Origin Port</th>\n",
       "      <th>Carrier</th>\n",
       "      <th>TPT</th>\n",
       "      <th>Service Level</th>\n",
       "      <th>Ship_ahead_day_count</th>\n",
       "      <th>Ship_Late_Day_count</th>\n",
       "      <th>Customer</th>\n",
       "      <th>Product_ID</th>\n",
       "      <th>Plant_Code</th>\n",
       "      <th>Destination_Port</th>\n",
       "      <th>Unit_quantity</th>\n",
       "      <th>Weight</th>\n",
       "    </tr>\n",
       "  </thead>\n",
       "  <tbody>\n",
       "    <tr>\n",
       "      <th>0</th>\n",
       "      <td>1447296447</td>\n",
       "      <td>5/26/2013</td>\n",
       "      <td>PORT09</td>\n",
       "      <td>V44_3</td>\n",
       "      <td>1</td>\n",
       "      <td>CRF</td>\n",
       "      <td>3</td>\n",
       "      <td>0</td>\n",
       "      <td>V55555_53</td>\n",
       "      <td>1700106</td>\n",
       "      <td>PLANT16</td>\n",
       "      <td>PORT09</td>\n",
       "      <td>808</td>\n",
       "      <td>14.30</td>\n",
       "    </tr>\n",
       "    <tr>\n",
       "      <th>1</th>\n",
       "      <td>1447158015</td>\n",
       "      <td>5/26/2013</td>\n",
       "      <td>PORT09</td>\n",
       "      <td>V44_3</td>\n",
       "      <td>1</td>\n",
       "      <td>CRF</td>\n",
       "      <td>3</td>\n",
       "      <td>0</td>\n",
       "      <td>V55555_53</td>\n",
       "      <td>1700106</td>\n",
       "      <td>PLANT16</td>\n",
       "      <td>PORT09</td>\n",
       "      <td>3188</td>\n",
       "      <td>87.94</td>\n",
       "    </tr>\n",
       "    <tr>\n",
       "      <th>2</th>\n",
       "      <td>1447138899</td>\n",
       "      <td>5/26/2013</td>\n",
       "      <td>PORT09</td>\n",
       "      <td>V44_3</td>\n",
       "      <td>1</td>\n",
       "      <td>CRF</td>\n",
       "      <td>3</td>\n",
       "      <td>0</td>\n",
       "      <td>V55555_53</td>\n",
       "      <td>1700106</td>\n",
       "      <td>PLANT16</td>\n",
       "      <td>PORT09</td>\n",
       "      <td>2331</td>\n",
       "      <td>61.20</td>\n",
       "    </tr>\n",
       "  </tbody>\n",
       "</table>\n",
       "</div>"
      ],
      "text/plain": [
       "     Order ID Order Date Origin Port Carrier  TPT Service Level  \\\n",
       "0  1447296447  5/26/2013      PORT09   V44_3    1           CRF   \n",
       "1  1447158015  5/26/2013      PORT09   V44_3    1           CRF   \n",
       "2  1447138899  5/26/2013      PORT09   V44_3    1           CRF   \n",
       "\n",
       "   Ship_ahead_day_count  Ship_Late_Day_count   Customer  Product_ID  \\\n",
       "0                     3                    0  V55555_53     1700106   \n",
       "1                     3                    0  V55555_53     1700106   \n",
       "2                     3                    0  V55555_53     1700106   \n",
       "\n",
       "  Plant_Code Destination_Port  Unit_quantity  Weight  \n",
       "0    PLANT16           PORT09            808   14.30  \n",
       "1    PLANT16           PORT09           3188   87.94  \n",
       "2    PLANT16           PORT09           2331   61.20  "
      ]
     },
     "execution_count": 30,
     "metadata": {},
     "output_type": "execute_result"
    }
   ],
   "source": [
    "df.rename(columns={'Unit quantity': 'Unit_quantity'}, inplace=True)\n",
    "df.rename(columns={'Destination Port': 'Destination_Port'}, inplace=True)\n",
    "df.rename(columns={'Plant Code': 'Plant_Code'}, inplace=True)\n",
    "df.rename(columns={'Product ID': 'Product_ID'}, inplace=True)\n",
    "df.rename(columns={'Ship ahead day count': 'Ship_ahead_day_count'}, inplace=True)\n",
    "df.rename(columns={'Ship Late Day count': 'Ship_Late_Day_count'}, inplace=True)\n",
    "df.head(3)"
   ]
  },
  {
   "cell_type": "code",
   "execution_count": 31,
   "metadata": {},
   "outputs": [
    {
     "data": {
      "text/plain": [
       "Order ID                0\n",
       "Order Date              0\n",
       "Origin Port             0\n",
       "Carrier                 0\n",
       "TPT                     0\n",
       "Service Level           0\n",
       "Ship_ahead_day_count    0\n",
       "Ship_Late_Day_count     0\n",
       "Customer                0\n",
       "Product_ID              0\n",
       "Plant_Code              0\n",
       "Destination_Port        0\n",
       "Unit_quantity           0\n",
       "Weight                  0\n",
       "dtype: int64"
      ]
     },
     "execution_count": 31,
     "metadata": {},
     "output_type": "execute_result"
    }
   ],
   "source": [
    "df.isnull().sum()"
   ]
  },
  {
   "cell_type": "code",
   "execution_count": 32,
   "metadata": {},
   "outputs": [
    {
     "name": "stdout",
     "output_type": "stream",
     "text": [
      "<class 'pandas.core.frame.DataFrame'>\n",
      "RangeIndex: 9215 entries, 0 to 9214\n",
      "Data columns (total 14 columns):\n",
      " #   Column                Non-Null Count  Dtype  \n",
      "---  ------                --------------  -----  \n",
      " 0   Order ID              9215 non-null   int64  \n",
      " 1   Order Date            9215 non-null   object \n",
      " 2   Origin Port           9215 non-null   object \n",
      " 3   Carrier               9215 non-null   object \n",
      " 4   TPT                   9215 non-null   int64  \n",
      " 5   Service Level         9215 non-null   object \n",
      " 6   Ship_ahead_day_count  9215 non-null   int64  \n",
      " 7   Ship_Late_Day_count   9215 non-null   int64  \n",
      " 8   Customer              9215 non-null   object \n",
      " 9   Product_ID            9215 non-null   int64  \n",
      " 10  Plant_Code            9215 non-null   object \n",
      " 11  Destination_Port      9215 non-null   object \n",
      " 12  Unit_quantity         9215 non-null   int64  \n",
      " 13  Weight                9215 non-null   float64\n",
      "dtypes: float64(1), int64(6), object(7)\n",
      "memory usage: 1008.0+ KB\n"
     ]
    }
   ],
   "source": [
    "df.info()"
   ]
  },
  {
   "cell_type": "code",
   "execution_count": 33,
   "metadata": {},
   "outputs": [],
   "source": [
    "attributes_to_keep = ['Product_ID','Plant_Code','Ship_ahead_day_count','Ship_Late_Day_count','Destination_Port','Carrier','Unit_quantity', 'Weight']\n",
    "df = df[attributes_to_keep]\n",
    "\n",
    "# Now, 'df' will only contain the specified attributes\n"
   ]
  },
  {
   "cell_type": "code",
   "execution_count": 34,
   "metadata": {},
   "outputs": [],
   "source": [
    "\n",
    "df.to_csv(\"C:\\\\Users\\\\HP\\\\Desktop\\\\labs\\\\dmpa_project_final\\\\dmpa_2.csv\", index=False)\n"
   ]
  }
 ],
 "metadata": {
  "kernelspec": {
   "display_name": "Python 3",
   "language": "python",
   "name": "python3"
  },
  "language_info": {
   "codemirror_mode": {
    "name": "ipython",
    "version": 3
   },
   "file_extension": ".py",
   "mimetype": "text/x-python",
   "name": "python",
   "nbconvert_exporter": "python",
   "pygments_lexer": "ipython3",
   "version": "3.11.6"
  }
 },
 "nbformat": 4,
 "nbformat_minor": 2
}
